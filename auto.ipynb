{
 "cells": [
  {
   "cell_type": "code",
   "execution_count": 2,
   "metadata": {},
   "outputs": [
    {
     "name": "stdout",
     "output_type": "stream",
     "text": [
      "Collecting pandas\n",
      "  Downloading pandas-1.5.3-cp310-cp310-win_amd64.whl (10.4 MB)\n",
      "     --------------------------------------- 10.4/10.4 MB 27.3 MB/s eta 0:00:00\n",
      "Requirement already satisfied: numpy>=1.21.0 in c:\\users\\kirsr\\appdata\\local\\packages\\pythonsoftwarefoundation.python.3.10_qbz5n2kfra8p0\\localcache\\local-packages\\python310\\site-packages (from pandas) (1.21.5)\n",
      "Requirement already satisfied: python-dateutil>=2.8.1 in c:\\users\\kirsr\\appdata\\local\\packages\\pythonsoftwarefoundation.python.3.10_qbz5n2kfra8p0\\localcache\\local-packages\\python310\\site-packages (from pandas) (2.8.2)\n",
      "Collecting pytz>=2020.1\n",
      "  Using cached pytz-2022.7.1-py2.py3-none-any.whl (499 kB)\n",
      "Requirement already satisfied: six>=1.5 in c:\\users\\kirsr\\appdata\\local\\packages\\pythonsoftwarefoundation.python.3.10_qbz5n2kfra8p0\\localcache\\local-packages\\python310\\site-packages (from python-dateutil>=2.8.1->pandas) (1.16.0)\n",
      "Installing collected packages: pytz, pandas\n",
      "Successfully installed pandas-1.5.3 pytz-2022.7.1\n"
     ]
    }
   ],
   "source": [
    "!pip install pandas"
   ]
  },
  {
   "cell_type": "code",
   "execution_count": 3,
   "metadata": {},
   "outputs": [],
   "source": [
    "import pandas as pd"
   ]
  },
  {
   "cell_type": "code",
   "execution_count": 37,
   "metadata": {},
   "outputs": [],
   "source": [
    "num_page = 23\n",
    "if num_page > 0:\n",
    "    for i in range(1, num_page):\n",
    "        if i == 1:\n",
    "            df = pd.read_csv(f'auto{i}.csv')\n",
    "        else:\n",
    "            df_next = pd.read_csv(f'auto{i}.csv')\n",
    "            df = pd.concat([df, df_next])\n",
    "    df.to_csv('auto.csv', index=False)"
   ]
  },
  {
   "cell_type": "code",
   "execution_count": 38,
   "metadata": {},
   "outputs": [
    {
     "name": "stdout",
     "output_type": "stream",
     "text": [
      "<class 'pandas.core.frame.DataFrame'>\n",
      "RangeIndex: 35921 entries, 0 to 35920\n",
      "Data columns (total 50 columns):\n",
      " #   Column                                        Non-Null Count  Dtype  \n",
      "---  ------                                        --------------  -----  \n",
      " 0   href                                          35921 non-null  object \n",
      " 1   name                                          35299 non-null  object \n",
      " 2   price                                         35295 non-null  object \n",
      " 3   details                                       35299 non-null  object \n",
      " 4   milage                                        35299 non-null  object \n",
      " 5   year                                          35299 non-null  float64\n",
      " 6   Страна марки                                  35299 non-null  object \n",
      " 7   Класс автомобиля                              35200 non-null  object \n",
      " 8   Количество дверей                             35299 non-null  float64\n",
      " 9   Количество мест                               35299 non-null  object \n",
      " 10  Длина                                         35299 non-null  float64\n",
      " 11  Ширина                                        35299 non-null  float64\n",
      " 12  Высота                                        35299 non-null  float64\n",
      " 13  Колёсная база                                 35299 non-null  float64\n",
      " 14  Клиренс                                       34990 non-null  object \n",
      " 15  Ширина передней колеи                         34619 non-null  float64\n",
      " 16  Ширина задней колеи                           34619 non-null  float64\n",
      " 17  Размер колёс                                  34395 non-null  object \n",
      " 18  Объем багажника мин/макс, л                   33023 non-null  object \n",
      " 19  Объём топливного бака, л                      34321 non-null  float64\n",
      " 20  Снаряженная масса, кг                         34602 non-null  float64\n",
      " 21  Полная масса, кг                              31587 non-null  float64\n",
      " 22  Коробка передач                               35299 non-null  object \n",
      " 23  Количество передач                            31865 non-null  float64\n",
      " 24  Тип привода                                   35299 non-null  object \n",
      " 25  Тип передней подвески                         35299 non-null  object \n",
      " 26  Тип задней подвески                           35215 non-null  object \n",
      " 27  Передние тормоза                              35299 non-null  object \n",
      " 28  Задние тормоза                                34905 non-null  object \n",
      " 29  Максимальная скорость, км/ч                   33845 non-null  float64\n",
      " 30  Разгон до 100 км/ч, с                         34067 non-null  float64\n",
      " 31  Расход топлива, л город/трасса/смешанный      34602 non-null  object \n",
      " 32  Марка топлива                                 34823 non-null  object \n",
      " 33  Тип двигателя                                 35299 non-null  object \n",
      " 34  Расположение двигателя                        34862 non-null  object \n",
      " 35  Объем двигателя, см³                          34853 non-null  float64\n",
      " 36  Тип наддува                                   34868 non-null  object \n",
      " 37  Максимальная мощность, л.с./кВт при об/мин    35299 non-null  object \n",
      " 38  Максимальный крутящий момент, Н*м при об/мин  34909 non-null  object \n",
      " 39  Расположение цилиндров                        34853 non-null  object \n",
      " 40  Количество цилиндров                          34853 non-null  float64\n",
      " 41  Число клапанов на цилиндр                     34812 non-null  float64\n",
      " 42  Система питания двигателя                     34853 non-null  object \n",
      " 43  Степень сжатия                                34550 non-null  float64\n",
      " 44  Диаметр цилиндра и ход поршня, мм             34424 non-null  object \n",
      " 45  Экологический класс                           23713 non-null  object \n",
      " 46  Выбросы CO2, г/км                             18309 non-null  float64\n",
      " 47  Емкость батареи, кВт⋅ч                        583 non-null    float64\n",
      " 48  Запас хода на электричестве, км               476 non-null    object \n",
      " 49  Время зарядки, ч                              418 non-null    float64\n",
      "dtypes: float64(21), object(29)\n",
      "memory usage: 13.7+ MB\n"
     ]
    }
   ],
   "source": [
    "df = pd.read_csv('auto.csv')\n",
    "df.info()"
   ]
  },
  {
   "cell_type": "code",
   "execution_count": 30,
   "metadata": {},
   "outputs": [
    {
     "data": {
      "text/plain": [
       "href                                            https://auto.ru/cars/used/sale/vaz/2107/111787...\n",
       "name                                                                              LADA (ВАЗ) 2107\n",
       "price                                                                                    65 000 ₽\n",
       "details                                         1.5 л / 72 л.с. / Бензин\\nмеханика\\nседан\\nзад...\n",
       "milage                                                                                  46 000 км\n",
       "year                                                                                       1996.0\n",
       "Страна марки                                                                               Россия\n",
       "Класс автомобиля                                                                                B\n",
       "Количество дверей                                                                             4.0\n",
       "Количество мест                                                                               5.0\n",
       "Длина                                                                                      4145.0\n",
       "Ширина                                                                                     1620.0\n",
       "Высота                                                                                     1446.0\n",
       "Колёсная база                                                                              2424.0\n",
       "Клиренс                                                                                     170.0\n",
       "Ширина передней колеи                                                                      1365.0\n",
       "Ширина задней колеи                                                                        1321.0\n",
       "Размер колёс                                                                           175/70/R13\n",
       "Объем багажника мин/макс, л                                                                   379\n",
       "Объём топливного бака, л                                                                     39.0\n",
       "Снаряженная масса, кг                                                                      1060.0\n",
       "Полная масса, кг                                                                           1460.0\n",
       "Коробка передач                                                                          Механика\n",
       "Количество передач                                                                            5.0\n",
       "Тип привода                                                                                задний\n",
       "Тип передней подвески                                                      независимая, пружинная\n",
       "Тип задней подвески                                                          зависимая, пружинная\n",
       "Передние тормоза                                                                         дисковые\n",
       "Задние тормоза                                                                         барабанные\n",
       "Максимальная скорость, км/ч                                                                 150.0\n",
       "Разгон до 100 км/ч, с                                                                        17.0\n",
       "Расход топлива, л город/трасса/смешанный                                              8.9/7.4/8.5\n",
       "Марка топлива                                                                               АИ-92\n",
       "Тип двигателя                                                                          бензиновый\n",
       "Расположение двигателя                                                       переднее, продольное\n",
       "Объем двигателя, см³                                                                       1452.0\n",
       "Тип наддува                                                                                   нет\n",
       "Максимальная мощность, л.с./кВт при об/мин                                         72/53 при 5000\n",
       "Максимальный крутящий момент, Н*м при об/мин                                         105 при 3500\n",
       "Расположение цилиндров                                                                     рядное\n",
       "Количество цилиндров                                                                          4.0\n",
       "Число клапанов на цилиндр                                                                     2.0\n",
       "Система питания двигателя                                                              карбюратор\n",
       "Степень сжатия                                                                                8.5\n",
       "Диаметр цилиндра и ход поршня, мм                                                       76.0x80.0\n",
       "Экологический класс                                                                           NaN\n",
       "Name: 0, dtype: object"
      ]
     },
     "execution_count": 30,
     "metadata": {},
     "output_type": "execute_result"
    }
   ],
   "source": [
    "df.iloc[0]"
   ]
  },
  {
   "attachments": {},
   "cell_type": "markdown",
   "metadata": {},
   "source": [
    "<!-- TODO: нормализовать необходимые данные -->"
   ]
  },
  {
   "cell_type": "code",
   "execution_count": 10,
   "metadata": {},
   "outputs": [
    {
     "data": {
      "text/plain": [
       "'https://auto.ru/cars/used/sale/opel/corsa/1117852600-533b49cb/'"
      ]
     },
     "execution_count": 10,
     "metadata": {},
     "output_type": "execute_result"
    }
   ],
   "source": [
    "df.href[0]"
   ]
  },
  {
   "cell_type": "code",
   "execution_count": 25,
   "metadata": {},
   "outputs": [
    {
     "data": {
      "text/plain": [
       "1.856055362066158e+36"
      ]
     },
     "execution_count": 25,
     "metadata": {},
     "output_type": "execute_result"
    }
   ],
   "source": [
    "l = 3.8615905*10**(-13)\n",
    "m = 9.109534*10*(-31)\n",
    "t = 1.2880879*10**(-21)\n",
    "\n",
    "((m**2)*l)/(t**2)"
   ]
  },
  {
   "cell_type": "code",
   "execution_count": null,
   "metadata": {},
   "outputs": [],
   "source": []
  }
 ],
 "metadata": {
  "kernelspec": {
   "display_name": "Python 3",
   "language": "python",
   "name": "python3"
  },
  "language_info": {
   "codemirror_mode": {
    "name": "ipython",
    "version": 3
   },
   "file_extension": ".py",
   "mimetype": "text/x-python",
   "name": "python",
   "nbconvert_exporter": "python",
   "pygments_lexer": "ipython3",
   "version": "3.10.11"
  },
  "orig_nbformat": 4,
  "vscode": {
   "interpreter": {
    "hash": "05c16fddbd24ad7a886d50d57a07c703d213f8bb5df70eb6d918d9fb97ad191b"
   }
  }
 },
 "nbformat": 4,
 "nbformat_minor": 2
}
